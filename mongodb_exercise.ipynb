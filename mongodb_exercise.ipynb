{
 "cells": [
  {
   "cell_type": "code",
   "execution_count": 156,
   "metadata": {},
   "outputs": [],
   "source": [
    "from pymongo import MongoClient\n",
    "from pprint import pprint\n",
    "import requests\n",
    "import json"
   ]
  },
  {
   "cell_type": "code",
   "execution_count": 157,
   "metadata": {},
   "outputs": [],
   "source": [
    "# Client connects to \"localhost\" by default \n",
    "client = MongoClient('localhost', 27017)"
   ]
  },
  {
   "cell_type": "code",
   "execution_count": 158,
   "metadata": {},
   "outputs": [],
   "source": [
    "#db = client.yasminhilles\n",
    "\n",
    "# Create local \"bipm\" database on the fly \n",
    "db = client['bipm']"
   ]
  },
  {
   "cell_type": "code",
   "execution_count": 159,
   "metadata": {},
   "outputs": [],
   "source": [
    "# When we rerun the whole notebook, we start from scratch \n",
    "# by dropping the colection \"courses\"\n",
    "db.courses.drop()"
   ]
  },
  {
   "cell_type": "code",
   "execution_count": 160,
   "metadata": {},
   "outputs": [],
   "source": [
    "# Create a Python Dictonary\n",
    "courses = [\n",
    "    {'title': 'Data Science',\n",
    "     'lecturer': {\n",
    "         'name': 'Markus Löcher',\n",
    "         'department': 'Math',\n",
    "         'status': 'Professor'\n",
    "     },\n",
    "     'semester': 1},\n",
    "    {'title': 'Data Warehousing',\n",
    "     'lecturer': {\n",
    "         'name': 'Roland M. Mueller',\n",
    "         'department': 'Information Systems',\n",
    "         'status': 'Professor'\n",
    "     },\n",
    "     'semester': 1},\n",
    "    {'title': 'Business Process Management',\n",
    "     'lecturer': {\n",
    "         'name': 'Frank Habermann',\n",
    "         'department': 'Information Systems',\n",
    "         'status': 'Professor'\n",
    "     },\n",
    "     'semester': 1},\n",
    "    {'title': 'Stratigic Issues of IT',\n",
    "     'lecturer': {\n",
    "         'name': 'Sven Pohland',\n",
    "         'department': 'Information Systems',\n",
    "         'status': 'Professor'\n",
    "     },\n",
    "          'semester': 1},\n",
    "    {'title': 'Text, Web and Social Media Analytics Lab',\n",
    "     'lecturer': {\n",
    "         'name': 'Markus Löcher',\n",
    "         'department': 'Math',\n",
    "         'status': 'Professor'\n",
    "     },\n",
    "     'semester': 2},\n",
    "    {'title': 'Enterprise Architectures for Big Data',\n",
    "     'lecturer': {\n",
    "         'name': 'Roland M. Mueller',\n",
    "         'department': 'Information Systems',\n",
    "         'status': 'Professor'\n",
    "     },\n",
    "     'semester': 2},\n",
    "    {'title': 'Business Process Integration Lab',\n",
    "     'lecturer': {\n",
    "         'name': 'Frank Habermann',\n",
    "         'department': 'Information Systems',\n",
    "         'status': 'Professor'\n",
    "     },\n",
    "     'semester': 2},\n",
    "    {'title': 'IT-Security and Privacy',\n",
    "     'lecturer': {\n",
    "         'name': 'Dennis Uckel',\n",
    "         'department': 'Information Systems',\n",
    "         'status': 'External'\n",
    "     },\n",
    "     'semester': 2},\n",
    "    {'title': 'Research Methods',\n",
    "     'lecturer': {\n",
    "         'name': 'Marcus Birkenkrahe',\n",
    "         'department': 'Information Systems',\n",
    "         'status': 'Professor'\n",
    "     },\n",
    "     'semester': 2},\n",
    "]\n"
   ]
  },
  {
   "cell_type": "code",
   "execution_count": 161,
   "metadata": {},
   "outputs": [
    {
     "name": "stdout",
     "output_type": "stream",
     "text": [
      "[{'lecturer': {'department': 'Math',\n",
      "               'name': 'Markus Löcher',\n",
      "               'status': 'Professor'},\n",
      "  'semester': 1,\n",
      "  'title': 'Data Science'},\n",
      " {'lecturer': {'department': 'Information Systems',\n",
      "               'name': 'Roland M. Mueller',\n",
      "               'status': 'Professor'},\n",
      "  'semester': 1,\n",
      "  'title': 'Data Warehousing'},\n",
      " {'lecturer': {'department': 'Information Systems',\n",
      "               'name': 'Frank Habermann',\n",
      "               'status': 'Professor'},\n",
      "  'semester': 1,\n",
      "  'title': 'Business Process Management'},\n",
      " {'lecturer': {'department': 'Information Systems',\n",
      "               'name': 'Sven Pohland',\n",
      "               'status': 'Professor'},\n",
      "  'semester': 1,\n",
      "  'title': 'Stratigic Issues of IT'},\n",
      " {'lecturer': {'department': 'Math',\n",
      "               'name': 'Markus Löcher',\n",
      "               'status': 'Professor'},\n",
      "  'semester': 2,\n",
      "  'title': 'Text, Web and Social Media Analytics Lab'},\n",
      " {'lecturer': {'department': 'Information Systems',\n",
      "               'name': 'Roland M. Mueller',\n",
      "               'status': 'Professor'},\n",
      "  'semester': 2,\n",
      "  'title': 'Enterprise Architectures for Big Data'},\n",
      " {'lecturer': {'department': 'Information Systems',\n",
      "               'name': 'Frank Habermann',\n",
      "               'status': 'Professor'},\n",
      "  'semester': 2,\n",
      "  'title': 'Business Process Integration Lab'},\n",
      " {'lecturer': {'department': 'Information Systems',\n",
      "               'name': 'Dennis Uckel',\n",
      "               'status': 'External'},\n",
      "  'semester': 2,\n",
      "  'title': 'IT-Security and Privacy'},\n",
      " {'lecturer': {'department': 'Information Systems',\n",
      "               'name': 'Marcus Birkenkrahe',\n",
      "               'status': 'Professor'},\n",
      "  'semester': 2,\n",
      "  'title': 'Research Methods'}]\n"
     ]
    }
   ],
   "source": [
    "pprint(courses)"
   ]
  },
  {
   "cell_type": "code",
   "execution_count": 162,
   "metadata": {},
   "outputs": [
    {
     "data": {
      "text/plain": [
       "InsertManyResult([ObjectId('6659c9457f8154aa554314a7'), ObjectId('6659c9457f8154aa554314a8'), ObjectId('6659c9457f8154aa554314a9'), ObjectId('6659c9457f8154aa554314aa'), ObjectId('6659c9457f8154aa554314ab'), ObjectId('6659c9457f8154aa554314ac'), ObjectId('6659c9457f8154aa554314ad'), ObjectId('6659c9457f8154aa554314ae'), ObjectId('6659c9457f8154aa554314af')], acknowledged=True)"
      ]
     },
     "execution_count": 162,
     "metadata": {},
     "output_type": "execute_result"
    }
   ],
   "source": [
    "db.courses.insert_many(courses)"
   ]
  },
  {
   "cell_type": "code",
   "execution_count": 163,
   "metadata": {},
   "outputs": [
    {
     "name": "stdout",
     "output_type": "stream",
     "text": [
      "{'_id': ObjectId('6659c9457f8154aa554314a7'),\n",
      " 'lecturer': {'department': 'Math',\n",
      "              'name': 'Markus Löcher',\n",
      "              'status': 'Professor'},\n",
      " 'semester': 1,\n",
      " 'title': 'Data Science'}\n",
      "{'_id': ObjectId('6659c9457f8154aa554314a8'),\n",
      " 'lecturer': {'department': 'Information Systems',\n",
      "              'name': 'Roland M. Mueller',\n",
      "              'status': 'Professor'},\n",
      " 'semester': 1,\n",
      " 'title': 'Data Warehousing'}\n",
      "{'_id': ObjectId('6659c9457f8154aa554314a9'),\n",
      " 'lecturer': {'department': 'Information Systems',\n",
      "              'name': 'Frank Habermann',\n",
      "              'status': 'Professor'},\n",
      " 'semester': 1,\n",
      " 'title': 'Business Process Management'}\n",
      "{'_id': ObjectId('6659c9457f8154aa554314aa'),\n",
      " 'lecturer': {'department': 'Information Systems',\n",
      "              'name': 'Sven Pohland',\n",
      "              'status': 'Professor'},\n",
      " 'semester': 1,\n",
      " 'title': 'Stratigic Issues of IT'}\n",
      "{'_id': ObjectId('6659c9457f8154aa554314ab'),\n",
      " 'lecturer': {'department': 'Math',\n",
      "              'name': 'Markus Löcher',\n",
      "              'status': 'Professor'},\n",
      " 'semester': 2,\n",
      " 'title': 'Text, Web and Social Media Analytics Lab'}\n",
      "{'_id': ObjectId('6659c9457f8154aa554314ac'),\n",
      " 'lecturer': {'department': 'Information Systems',\n",
      "              'name': 'Roland M. Mueller',\n",
      "              'status': 'Professor'},\n",
      " 'semester': 2,\n",
      " 'title': 'Enterprise Architectures for Big Data'}\n",
      "{'_id': ObjectId('6659c9457f8154aa554314ad'),\n",
      " 'lecturer': {'department': 'Information Systems',\n",
      "              'name': 'Frank Habermann',\n",
      "              'status': 'Professor'},\n",
      " 'semester': 2,\n",
      " 'title': 'Business Process Integration Lab'}\n",
      "{'_id': ObjectId('6659c9457f8154aa554314ae'),\n",
      " 'lecturer': {'department': 'Information Systems',\n",
      "              'name': 'Dennis Uckel',\n",
      "              'status': 'External'},\n",
      " 'semester': 2,\n",
      " 'title': 'IT-Security and Privacy'}\n",
      "{'_id': ObjectId('6659c9457f8154aa554314af'),\n",
      " 'lecturer': {'department': 'Information Systems',\n",
      "              'name': 'Marcus Birkenkrahe',\n",
      "              'status': 'Professor'},\n",
      " 'semester': 2,\n",
      " 'title': 'Research Methods'}\n"
     ]
    }
   ],
   "source": [
    "#Print all courses\n",
    "cursor = db.courses.find()\n",
    "\n",
    "for document in cursor:\n",
    "    pprint(document)"
   ]
  },
  {
   "cell_type": "code",
   "execution_count": 164,
   "metadata": {},
   "outputs": [
    {
     "data": {
      "text/plain": [
       "{'title': 'Master Thesis', 'semester': 3}"
      ]
     },
     "execution_count": 164,
     "metadata": {},
     "output_type": "execute_result"
    }
   ],
   "source": [
    "my_json = '{\"title\": \"Master Thesis\", \"semester\": 3}'\n",
    "another_course = json.loads(my_json)\n",
    "another_course"
   ]
  },
  {
   "cell_type": "code",
   "execution_count": 165,
   "metadata": {},
   "outputs": [
    {
     "name": "stdout",
     "output_type": "stream",
     "text": [
      "InsertOneResult(ObjectId('6659c9467f8154aa554314b0'), acknowledged=True)\n"
     ]
    }
   ],
   "source": [
    "#Store `another_course` as another course:\n",
    "another_course2 = db.another_courses.insert_one(another_course)\n",
    "\n",
    "pprint(another_course2)"
   ]
  },
  {
   "cell_type": "code",
   "execution_count": 166,
   "metadata": {},
   "outputs": [
    {
     "name": "stdout",
     "output_type": "stream",
     "text": [
      "{'_id': ObjectId('6659c9457f8154aa554314a7'), 'title': 'Data Science', 'lecturer': {'name': 'Markus Löcher', 'department': 'Math', 'status': 'Professor'}, 'semester': 1}\n",
      "{'_id': ObjectId('6659c9457f8154aa554314a8'), 'title': 'Data Warehousing', 'lecturer': {'name': 'Roland M. Mueller', 'department': 'Information Systems', 'status': 'Professor'}, 'semester': 1}\n",
      "{'_id': ObjectId('6659c9457f8154aa554314a9'), 'title': 'Business Process Management', 'lecturer': {'name': 'Frank Habermann', 'department': 'Information Systems', 'status': 'Professor'}, 'semester': 1}\n",
      "{'_id': ObjectId('6659c9457f8154aa554314aa'), 'title': 'Stratigic Issues of IT', 'lecturer': {'name': 'Sven Pohland', 'department': 'Information Systems', 'status': 'Professor'}, 'semester': 1}\n",
      "{'_id': ObjectId('6659c9457f8154aa554314ab'), 'title': 'Text, Web and Social Media Analytics Lab', 'lecturer': {'name': 'Markus Löcher', 'department': 'Math', 'status': 'Professor'}, 'semester': 2}\n",
      "{'_id': ObjectId('6659c9457f8154aa554314ac'), 'title': 'Enterprise Architectures for Big Data', 'lecturer': {'name': 'Roland M. Mueller', 'department': 'Information Systems', 'status': 'Professor'}, 'semester': 2}\n",
      "{'_id': ObjectId('6659c9457f8154aa554314ad'), 'title': 'Business Process Integration Lab', 'lecturer': {'name': 'Frank Habermann', 'department': 'Information Systems', 'status': 'Professor'}, 'semester': 2}\n",
      "{'_id': ObjectId('6659c9457f8154aa554314ae'), 'title': 'IT-Security and Privacy', 'lecturer': {'name': 'Dennis Uckel', 'department': 'Information Systems', 'status': 'External'}, 'semester': 2}\n",
      "{'_id': ObjectId('6659c9457f8154aa554314af'), 'title': 'Research Methods', 'lecturer': {'name': 'Marcus Birkenkrahe', 'department': 'Information Systems', 'status': 'Professor'}, 'semester': 2}\n"
     ]
    }
   ],
   "source": [
    "all_courses = db['courses'].find()\n",
    "\n",
    "for course in all_courses:\n",
    "    print(course)"
   ]
  },
  {
   "cell_type": "code",
   "execution_count": 167,
   "metadata": {},
   "outputs": [
    {
     "name": "stdout",
     "output_type": "stream",
     "text": [
      "{'_id': ObjectId('6659c9457f8154aa554314a7'),\n",
      " 'lecturer': {'department': 'Math',\n",
      "              'name': 'Markus Löcher',\n",
      "              'status': 'Professor'},\n",
      " 'semester': 1,\n",
      " 'title': 'Data Science'}\n"
     ]
    }
   ],
   "source": [
    "# TODO: Find the course with the title \"Data Science\" \n",
    "# save the result in a varibale result\n",
    "# and pprint the result.\n",
    "\n",
    "result = db.courses.find_one({\"title\": \"Data Science\"})\n",
    "\n",
    "pprint(result)\n"
   ]
  },
  {
   "cell_type": "code",
   "execution_count": 168,
   "metadata": {},
   "outputs": [
    {
     "name": "stdout",
     "output_type": "stream",
     "text": [
      "6659c9457f8154aa554314a7\n",
      "Markus Löcher\n"
     ]
    }
   ],
   "source": [
    "print(result[\"_id\"])\n",
    "print(result[\"lecturer\"][\"name\"])"
   ]
  },
  {
   "cell_type": "code",
   "execution_count": 169,
   "metadata": {},
   "outputs": [
    {
     "name": "stdout",
     "output_type": "stream",
     "text": [
      "{'_id': ObjectId('6659c9457f8154aa554314ab'),\n",
      " 'lecturer': {'department': 'Math',\n",
      "              'name': 'Markus Löcher',\n",
      "              'status': 'Professor'},\n",
      " 'semester': 2,\n",
      " 'title': 'Text, Web and Social Media Analytics Lab'}\n"
     ]
    }
   ],
   "source": [
    "first_course = db.courses.find_one({\"semester\": 2})\n",
    "\n",
    "pprint(first_course)"
   ]
  },
  {
   "cell_type": "code",
   "execution_count": 170,
   "metadata": {},
   "outputs": [
    {
     "name": "stdout",
     "output_type": "stream",
     "text": [
      "'Text, Web and Social Media Analytics Lab'\n",
      "'Enterprise Architectures for Big Data'\n",
      "'Business Process Integration Lab'\n",
      "'IT-Security and Privacy'\n",
      "'Research Methods'\n"
     ]
    }
   ],
   "source": [
    "# TODO: Find all courses in the second semester\n",
    "# and print the course titles\n",
    "\n",
    "semester2 = db.courses.find({\"semester\": 2})\n",
    "\n",
    "for title in semester2:\n",
    "    pprint(title[\"title\"])"
   ]
  },
  {
   "cell_type": "code",
   "execution_count": 171,
   "metadata": {},
   "outputs": [
    {
     "name": "stdout",
     "output_type": "stream",
     "text": [
      "'Markus Löcher'\n",
      "'Roland M. Mueller'\n",
      "'Frank Habermann'\n",
      "'Dennis Uckel'\n",
      "'Marcus Birkenkrahe'\n"
     ]
    }
   ],
   "source": [
    "# TODO: Find all courses in the second semester\n",
    "# and print the course titles\n",
    "\n",
    "for name in db.courses.find({\"semester\": 2}):\n",
    "    pprint(name[\"lecturer\"][\"name\"])\n",
    "\n",
    "# not sure why semester2 is not working"
   ]
  },
  {
   "cell_type": "code",
   "execution_count": 172,
   "metadata": {},
   "outputs": [],
   "source": [
    "#courses_fh = db.courses.find({'lecturer.name': 'Frank Habermann'})\n",
    "\n",
    "#for document in db.courses.find({'lecturer.name': 'Frank Habermann'}):\n",
    "   # pprint(document)"
   ]
  },
  {
   "cell_type": "code",
   "execution_count": 173,
   "metadata": {},
   "outputs": [
    {
     "name": "stdout",
     "output_type": "stream",
     "text": [
      "Title: Business Process Management\n",
      "Semester: 1\n",
      "\n",
      "Title: Business Process Integration Lab\n",
      "Semester: 2\n",
      "\n"
     ]
    }
   ],
   "source": [
    "# TODO: Find all courses of Frank Habermann\n",
    "# and print the title and the semester\n",
    "\n",
    "courses_fh = collection.find({\"lecturer.name\": \"Frank Habermann\"})\n",
    "\n",
    "for i in courses_fh:\n",
    "    print(\"Title:\", i[\"title\"])\n",
    "    print(\"Semester:\", i[\"semester\"])\n",
    "    print()"
   ]
  },
  {
   "cell_type": "code",
   "execution_count": 174,
   "metadata": {},
   "outputs": [
    {
     "name": "stdout",
     "output_type": "stream",
     "text": [
      "Title: Business Process Integration Lab\n",
      "Semester: 2\n",
      "\n"
     ]
    }
   ],
   "source": [
    "# TODO: Find all courses from Frank Habermann in the second semester\n",
    "# and print the title and the semester\n",
    "\n",
    "courses_fh2 = collection.find({\"lecturer.name\": \"Frank Habermann\", \"semester\": 2})\n",
    "\n",
    "for i in courses_fh2:\n",
    "    print(\"Title:\", i[\"title\"])\n",
    "    print(\"Semester:\", i[\"semester\"])\n",
    "    print()"
   ]
  },
  {
   "cell_type": "code",
   "execution_count": 175,
   "metadata": {},
   "outputs": [
    {
     "name": "stdout",
     "output_type": "stream",
     "text": [
      "Title: Data Science\n",
      "Semester: 1\n",
      "\n",
      "Title: Business Process Management\n",
      "Semester: 1\n",
      "\n",
      "Title: Text, Web and Social Media Analytics Lab\n",
      "Semester: 2\n",
      "\n",
      "Title: Business Process Integration Lab\n",
      "Semester: 2\n",
      "\n"
     ]
    }
   ],
   "source": [
    "# TODO: Find all courses from Frank Habermann or Markus Löcher\n",
    "# and print the title and the semester\n",
    "\n",
    "courses_fh_ml = db.courses.find({\"$or\": [{\"lecturer.name\": \"Markus Löcher\"}, {\"lecturer.name\": \"Frank Habermann\"}]})\n",
    "\n",
    "for i in courses_fh_ml:\n",
    "    print(\"Title:\", i[\"title\"])\n",
    "    print(\"Semester:\", i[\"semester\"])\n",
    "    print()"
   ]
  },
  {
   "cell_type": "code",
   "execution_count": 176,
   "metadata": {},
   "outputs": [
    {
     "name": "stdout",
     "output_type": "stream",
     "text": [
      "Title: Text, Web and Social Media Analytics Lab\n",
      "Semester: 2\n",
      "\n",
      "Title: Enterprise Architectures for Big Data\n",
      "Semester: 2\n",
      "\n",
      "Title: Business Process Integration Lab\n",
      "Semester: 2\n",
      "\n",
      "Title: IT-Security and Privacy\n",
      "Semester: 2\n",
      "\n",
      "Title: Research Methods\n",
      "Semester: 2\n",
      "\n"
     ]
    }
   ],
   "source": [
    "# TODO: Find all courses in semester greater than 1\n",
    "# and print the title and the semester\n",
    "\n",
    "cursor = db.courses.find({\"semester\": {\"$gt\": 1}})\n",
    "\n",
    "for i in cursor:\n",
    "    print(\"Title:\", i[\"title\"])\n",
    "    print(\"Semester:\", i[\"semester\"])\n",
    "    print()\n",
    "\n",
    "#lower than: cursor = db.restaurants.find({\"grades.score\": {\"$lt\": 10}})"
   ]
  },
  {
   "cell_type": "code",
   "execution_count": 177,
   "metadata": {},
   "outputs": [
    {
     "data": {
      "text/plain": [
       "5"
      ]
     },
     "execution_count": 177,
     "metadata": {},
     "output_type": "execute_result"
    }
   ],
   "source": [
    "# TODO: How many courses are in the second semester?\n",
    "\n",
    "second_semester = db.courses.count_documents({\"semester\": 2})\n",
    "\n",
    "second_semester"
   ]
  },
  {
   "cell_type": "markdown",
   "metadata": {},
   "source": [
    "Downloading Nobel Prize Winners with an API and storing them in MongoDB"
   ]
  },
  {
   "cell_type": "code",
   "execution_count": 178,
   "metadata": {},
   "outputs": [],
   "source": [
    "# Create local \"nobel\" database on the fly \n",
    "db = client[\"nobel\"]\n",
    "db.prizes.drop()\n",
    "db.laureates.drop()\n",
    "# API documented at https://nobelprize.readme.io/docs/prize \n",
    "for collection_name in [\"prizes\", \"laureates\"]:\n",
    "    singular = collection_name[:-1] # the API uses singular\n",
    "    response = requests.get( \"http://api.nobelprize.org/v1/{}.json\".format(singular)) \n",
    "    documents = response.json()[collection_name] \n",
    "    # Create collections on the fly \n",
    "    db[collection_name].insert_many(documents)"
   ]
  },
  {
   "cell_type": "code",
   "execution_count": 179,
   "metadata": {},
   "outputs": [
    {
     "name": "stdout",
     "output_type": "stream",
     "text": [
      "{'_id': ObjectId('6659ca247f8154aa5543174f'),\n",
      " 'born': '1845-03-27',\n",
      " 'bornCity': 'Lennep (now Remscheid)',\n",
      " 'bornCountry': 'Prussia (now Germany)',\n",
      " 'bornCountryCode': 'DE',\n",
      " 'died': '1923-02-10',\n",
      " 'diedCity': 'Munich',\n",
      " 'diedCountry': 'Germany',\n",
      " 'diedCountryCode': 'DE',\n",
      " 'firstname': 'Wilhelm Conrad',\n",
      " 'gender': 'male',\n",
      " 'id': '1',\n",
      " 'prizes': [{'affiliations': [{'city': 'Munich',\n",
      "                               'country': 'Germany',\n",
      "                               'name': 'Munich University'}],\n",
      "             'category': 'physics',\n",
      "             'motivation': '\"in recognition of the extraordinary services he '\n",
      "                           'has rendered by the discovery of the remarkable '\n",
      "                           'rays subsequently named after him\"',\n",
      "             'share': '1',\n",
      "             'year': '1901'}],\n",
      " 'surname': 'Röntgen'}\n"
     ]
    }
   ],
   "source": [
    "pprint(db.laureates.find_one())"
   ]
  },
  {
   "cell_type": "code",
   "execution_count": 185,
   "metadata": {},
   "outputs": [
    {
     "name": "stdout",
     "output_type": "stream",
     "text": [
      "'Wilhelm Conrad'\n"
     ]
    }
   ],
   "source": [
    "# TODO: Print the first name of the first document\n",
    "\n",
    "first_name = db.laureates.find_one()\n",
    "\n",
    "pprint(first_name[\"firstname\"])"
   ]
  },
  {
   "cell_type": "code",
   "execution_count": 189,
   "metadata": {},
   "outputs": [
    {
     "data": {
      "text/plain": [
       "64"
      ]
     },
     "execution_count": 189,
     "metadata": {},
     "output_type": "execute_result"
    }
   ],
   "source": [
    "# How many female laureates exists? \n",
    "\n",
    "db.laureates.count_documents({\"gender\": \"female\"})\n",
    "\n"
   ]
  },
  {
   "cell_type": "code",
   "execution_count": 190,
   "metadata": {},
   "outputs": [
    {
     "data": {
      "text/plain": [
       "['Bavaria (now Germany)',\n",
       " 'East Friesland (now Germany)',\n",
       " 'Germany',\n",
       " 'Germany (now France)',\n",
       " 'Germany (now Poland)',\n",
       " 'Germany (now Russia)',\n",
       " 'Hesse-Kassel (now Germany)',\n",
       " 'Mecklenburg (now Germany)',\n",
       " 'Prussia (now Germany)',\n",
       " 'Schleswig (now Germany)',\n",
       " 'West Germany (now Germany)',\n",
       " 'Württemberg (now Germany)']"
      ]
     },
     "execution_count": 190,
     "metadata": {},
     "output_type": "execute_result"
    }
   ],
   "source": [
    "#With the $regex function you can use a regular expression. distinct list only all distinct entries.\n",
    "\n",
    "db.laureates.distinct(\"bornCountry\", {\"bornCountry\": {\"$regex\": \"Germany\"}})"
   ]
  },
  {
   "cell_type": "code",
   "execution_count": 191,
   "metadata": {},
   "outputs": [
    {
     "data": {
      "text/plain": [
       "97"
      ]
     },
     "execution_count": 191,
     "metadata": {},
     "output_type": "execute_result"
    }
   ],
   "source": [
    "# TODO: How many laureates are from Germany?\n",
    "\n",
    "db.laureates.count_documents({\"bornCountry\": {\"$regex\": \"Germany\"}})"
   ]
  },
  {
   "cell_type": "code",
   "execution_count": 195,
   "metadata": {},
   "outputs": [
    {
     "name": "stdout",
     "output_type": "stream",
     "text": [
      "Year: 1901\n",
      "First Name: Wilhelm Conrad\n",
      "Surname: Röntgen\n",
      "\n",
      "Year: 1909\n",
      "First Name: Ferdinand\n",
      "Surname: Braun\n",
      "\n",
      "Year: 1914\n",
      "First Name: Max\n",
      "Surname: von Laue\n",
      "\n",
      "Year: 1918\n",
      "First Name: Max\n",
      "Surname: Planck\n",
      "\n",
      "Year: 1919\n",
      "First Name: Johannes\n",
      "Surname: Stark\n",
      "\n",
      "Year: 1921\n",
      "First Name: Albert\n",
      "Surname: Einstein\n",
      "\n",
      "Year: 1925\n",
      "First Name: James\n",
      "Surname: Franck\n",
      "\n",
      "Year: 1925\n",
      "First Name: Gustav\n",
      "Surname: Hertz\n",
      "\n",
      "Year: 1932\n",
      "First Name: Werner\n",
      "Surname: Heisenberg\n",
      "\n",
      "Year: 1943\n",
      "First Name: Otto\n",
      "Surname: Stern\n",
      "\n",
      "Year: 1954\n",
      "First Name: Max\n",
      "Surname: Born\n",
      "\n",
      "Year: 1954\n",
      "First Name: Walther\n",
      "Surname: Bothe\n",
      "\n",
      "Year: 1955\n",
      "First Name: Polykarp\n",
      "Surname: Kusch\n",
      "\n",
      "Year: 1961\n",
      "First Name: Rudolf\n",
      "Surname: Mössbauer\n",
      "\n",
      "Year: 1963\n",
      "First Name: Maria\n",
      "Surname: Goeppert Mayer\n",
      "\n",
      "Year: 1963\n",
      "First Name: J. Hans D.\n",
      "Surname: Jensen\n",
      "\n",
      "Year: 1966\n",
      "First Name: Alfred\n",
      "Surname: Kastler\n",
      "\n",
      "Year: 1967\n",
      "First Name: Hans\n",
      "Surname: Bethe\n",
      "\n",
      "Year: 1978\n",
      "First Name: Arno\n",
      "Surname: Penzias\n",
      "\n",
      "Year: 1986\n",
      "First Name: Ernst\n",
      "Surname: Ruska\n",
      "\n",
      "Year: 1986\n",
      "First Name: Gerd\n",
      "Surname: Binnig\n",
      "\n",
      "Year: 1987\n",
      "First Name: J. Georg\n",
      "Surname: Bednorz\n",
      "\n",
      "Year: 1988\n",
      "First Name: Jack\n",
      "Surname: Steinberger\n",
      "\n",
      "Year: 1989\n",
      "First Name: Hans G.\n",
      "Surname: Dehmelt\n",
      "\n",
      "Year: 1989\n",
      "First Name: Wolfgang\n",
      "Surname: Paul\n",
      "\n",
      "Year: 1998\n",
      "First Name: Horst L.\n",
      "Surname: Störmer\n",
      "\n",
      "Year: 2000\n",
      "First Name: Herbert\n",
      "Surname: Kroemer\n",
      "\n",
      "Year: 2001\n",
      "First Name: Wolfgang\n",
      "Surname: Ketterle\n",
      "\n",
      "Year: 2005\n",
      "First Name: Theodor W.\n",
      "Surname: Hänsch\n",
      "\n",
      "Year: 2017\n",
      "First Name: Rainer\n",
      "Surname: Weiss\n",
      "\n",
      "Year: 2020\n",
      "First Name: Reinhard\n",
      "Surname: Genzel\n",
      "\n",
      "Year: 2021\n",
      "First Name: Klaus\n",
      "Surname: Hasselmann\n",
      "\n"
     ]
    }
   ],
   "source": [
    "# TODO: Find all physics nobel laureates that are from Germany\n",
    "# print the year of the first prize, the first name, and surename\n",
    "\n",
    "cursor = db.laureates.find({\"bornCountry\": {\"$regex\": \"Germany\"}, \"prizes.category\": \"physics\"})\n",
    "\n",
    "for i in cursor:\n",
    "    print(\"Year:\", i[\"prizes\"][0][\"year\"])\n",
    "    print(\"First Name:\", i[\"firstname\"])\n",
    "    print(\"Surname:\", i[\"surname\"])\n",
    "    print()"
   ]
  },
  {
   "cell_type": "code",
   "execution_count": 201,
   "metadata": {},
   "outputs": [
    {
     "name": "stdout",
     "output_type": "stream",
     "text": [
      "{'_id': ObjectId('6659ca247f8154aa55431abf'),\n",
      " 'born': '1997-07-12',\n",
      " 'bornCity': 'Mingora',\n",
      " 'bornCountry': 'Pakistan',\n",
      " 'bornCountryCode': 'PK',\n",
      " 'died': '0000-00-00',\n",
      " 'firstname': 'Malala',\n",
      " 'gender': 'female',\n",
      " 'id': '914',\n",
      " 'prizes': [{'affiliations': [[]],\n",
      "             'category': 'peace',\n",
      "             'motivation': '\"for their struggle against the suppression of '\n",
      "                           'children and young people and for the right of all '\n",
      "                           'children to education\"',\n",
      "             'share': '2',\n",
      "             'year': '2014'}],\n",
      " 'surname': 'Yousafzai'}\n"
     ]
    }
   ],
   "source": [
    "# TODO: find and print the document for \"Malala\" (firstname)\n",
    "\n",
    "malala = db.laureates.find({\"firstname\": \"Malala\"})\n",
    "\n",
    "for i in malala:\n",
    "    pprint(i)"
   ]
  },
  {
   "cell_type": "code",
   "execution_count": 211,
   "metadata": {},
   "outputs": [
    {
     "name": "stdout",
     "output_type": "stream",
     "text": [
      "Year: 1903\n",
      "First Name: Marie\n",
      "Surname: Curie\n",
      "\n",
      "Year: 1905\n",
      "First Name: Bertha\n",
      "Surname: von Suttner\n",
      "\n",
      "Year: 1909\n",
      "First Name: Selma\n",
      "Surname: Lagerlöf\n",
      "\n",
      "Year: 1926\n",
      "First Name: Grazia\n",
      "Surname: Deledda\n",
      "\n",
      "Year: 1928\n",
      "First Name: Sigrid\n",
      "Surname: Undset\n",
      "\n",
      "Year: 1931\n",
      "First Name: Jane\n",
      "Surname: Addams\n",
      "\n",
      "Year: 1935\n",
      "First Name: Irène\n",
      "Surname: Joliot-Curie\n",
      "\n",
      "Year: 1938\n",
      "First Name: Pearl\n",
      "Surname: Buck\n",
      "\n",
      "Year: 1945\n",
      "First Name: Gabriela\n",
      "Surname: Mistral\n",
      "\n",
      "Year: 1946\n",
      "First Name: Emily Greene\n",
      "Surname: Balch\n",
      "\n",
      "Year: 1947\n",
      "First Name: Gerty\n",
      "Surname: Cori\n",
      "\n",
      "Year: 1963\n",
      "First Name: Maria\n",
      "Surname: Goeppert Mayer\n",
      "\n",
      "Year: 1964\n",
      "First Name: Dorothy Crowfoot\n",
      "Surname: Hodgkin\n",
      "\n",
      "Year: 1966\n",
      "First Name: Nelly\n",
      "Surname: Sachs\n",
      "\n",
      "Year: 1976\n",
      "First Name: Betty\n",
      "Surname: Williams\n",
      "\n",
      "Year: 1976\n",
      "First Name: Mairead\n",
      "Surname: Corrigan\n",
      "\n",
      "Year: 1977\n",
      "First Name: Rosalyn\n",
      "Surname: Yalow\n",
      "\n",
      "Year: 1979\n",
      "First Name: Anjezë Gonxhe\n",
      "Surname: Bojaxhiu\n",
      "\n",
      "Year: 1982\n",
      "First Name: Alva\n",
      "Surname: Myrdal\n",
      "\n",
      "Year: 1983\n",
      "First Name: Barbara\n",
      "Surname: McClintock\n",
      "\n",
      "Year: 1986\n",
      "First Name: Rita\n",
      "Surname: Levi-Montalcini\n",
      "\n",
      "Year: 1988\n",
      "First Name: Gertrude B.\n",
      "Surname: Elion\n",
      "\n",
      "Year: 1991\n",
      "First Name: Aung San Suu Kyi\n",
      "No surname available\n",
      "\n",
      "Year: 1991\n",
      "First Name: Nadine\n",
      "Surname: Gordimer\n",
      "\n",
      "Year: 1992\n",
      "First Name: Rigoberta\n",
      "Surname: Menchú Tum\n",
      "\n",
      "Year: 1993\n",
      "First Name: Toni\n",
      "Surname: Morrison\n",
      "\n",
      "Year: 1995\n",
      "First Name: Christiane\n",
      "Surname: Nüsslein-Volhard\n",
      "\n",
      "Year: 1996\n",
      "First Name: Wisława\n",
      "Surname: Szymborska\n",
      "\n",
      "Year: 1997\n",
      "First Name: Jody\n",
      "Surname: Williams\n",
      "\n",
      "Year: 2003\n",
      "First Name: Shirin\n",
      "Surname: Ebadi\n",
      "\n",
      "Year: 2004\n",
      "First Name: Linda B.\n",
      "Surname: Buck\n",
      "\n",
      "Year: 2004\n",
      "First Name: Elfriede\n",
      "Surname: Jelinek\n",
      "\n",
      "Year: 2004\n",
      "First Name: Wangari\n",
      "Surname: Maathai\n",
      "\n",
      "Year: 2007\n",
      "First Name: Doris\n",
      "Surname: Lessing\n",
      "\n",
      "Year: 2008\n",
      "First Name: Françoise\n",
      "Surname: Barré-Sinoussi\n",
      "\n",
      "Year: 2009\n",
      "First Name: Elizabeth H.\n",
      "Surname: Blackburn\n",
      "\n",
      "Year: 2009\n",
      "First Name: Carol W.\n",
      "Surname: Greider\n",
      "\n",
      "Year: 2009\n",
      "First Name: Ada E.\n",
      "Surname: Yonath\n",
      "\n",
      "Year: 2009\n",
      "First Name: Herta\n",
      "Surname: Müller\n",
      "\n",
      "Year: 2009\n",
      "First Name: Elinor\n",
      "Surname: Ostrom\n",
      "\n",
      "Year: 2011\n",
      "First Name: Ellen\n",
      "Surname: Johnson Sirleaf\n",
      "\n",
      "Year: 2011\n",
      "First Name: Leymah\n",
      "Surname: Gbowee\n",
      "\n",
      "Year: 2011\n",
      "First Name: Tawakkol\n",
      "Surname: Karman\n",
      "\n",
      "Year: 2013\n",
      "First Name: Alice\n",
      "Surname: Munro\n",
      "\n",
      "Year: 2014\n",
      "First Name: May-Britt\n",
      "Surname: Moser\n",
      "\n",
      "Year: 2014\n",
      "First Name: Malala\n",
      "Surname: Yousafzai\n",
      "\n",
      "Year: 2015\n",
      "First Name: Youyou\n",
      "Surname: Tu\n",
      "\n",
      "Year: 2015\n",
      "First Name: Svetlana\n",
      "Surname: Alexievich\n",
      "\n",
      "Year: 2018\n",
      "First Name: Donna\n",
      "Surname: Strickland\n",
      "\n",
      "Year: 2018\n",
      "First Name: Frances H.\n",
      "Surname: Arnold\n",
      "\n",
      "Year: 2018\n",
      "First Name: Nadia\n",
      "Surname: Murad\n",
      "\n",
      "Year: 2018\n",
      "First Name: Olga\n",
      "Surname: Tokarczuk\n",
      "\n",
      "Year: 2019\n",
      "First Name: Esther\n",
      "Surname: Duflo\n",
      "\n",
      "Year: 2020\n",
      "First Name: Andrea\n",
      "Surname: Ghez\n",
      "\n",
      "Year: 2020\n",
      "First Name: Emmanuelle\n",
      "Surname: Charpentier\n",
      "\n",
      "Year: 2020\n",
      "First Name: Jennifer A.\n",
      "Surname: Doudna\n",
      "\n",
      "Year: 2020\n",
      "First Name: Louise\n",
      "Surname: Glück\n",
      "\n",
      "Year: 2021\n",
      "First Name: Maria\n",
      "Surname: Ressa\n",
      "\n",
      "Year: 2022\n",
      "First Name: Carolyn\n",
      "Surname: Bertozzi\n",
      "\n",
      "Year: 2022\n",
      "First Name: Annie\n",
      "Surname: Ernaux\n",
      "\n",
      "Year: 2023\n",
      "First Name: Katalin\n",
      "Surname: Karikó\n",
      "\n",
      "Year: 2023\n",
      "First Name: Anne\n",
      "Surname: L’Huillier\n",
      "\n",
      "Year: 2023\n",
      "First Name: Narges\n",
      "Surname: Mohammadi\n",
      "\n",
      "Year: 2023\n",
      "First Name: Claudia\n",
      "Surname: Goldin\n",
      "\n"
     ]
    }
   ],
   "source": [
    "# TODO: Find only female nobel laureates \n",
    "# and sort them according the the prize year in ascending order\n",
    "# print year of the first prize, firstname, and surename\n",
    "\n",
    "cursor = db.laureates.find({\"gender\": \"female\"}).sort([(\"prizes.year\", 1)])\n",
    "\n",
    "for i in cursor:\n",
    "    print(\"Year:\", i[\"prizes\"][0][\"year\"])\n",
    "    print(\"First Name:\", i[\"firstname\"])\n",
    "    if \"surname\" in i:\n",
    "        print(\"Surname:\", i[\"surname\"])\n",
    "    else:\n",
    "        print(\"No surname available\")\n",
    "    print()"
   ]
  }
 ],
 "metadata": {
  "kernelspec": {
   "display_name": "Python 3",
   "language": "python",
   "name": "python3"
  },
  "language_info": {
   "codemirror_mode": {
    "name": "ipython",
    "version": 3
   },
   "file_extension": ".py",
   "mimetype": "text/x-python",
   "name": "python",
   "nbconvert_exporter": "python",
   "pygments_lexer": "ipython3",
   "version": "3.11.6"
  }
 },
 "nbformat": 4,
 "nbformat_minor": 2
}
